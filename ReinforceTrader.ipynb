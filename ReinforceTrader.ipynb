{
 "cells": [
  {
   "cell_type": "code",
   "execution_count": 1,
   "id": "478fb841-9ee5-4eec-b2f3-4e66d109884c",
   "metadata": {},
   "outputs": [],
   "source": [
    "from reinforcetrader.data import RawDataLoader"
   ]
  },
  {
   "cell_type": "code",
   "execution_count": null,
   "id": "d135f1f5-289d-4465-b753-574d03de24bf",
   "metadata": {},
   "outputs": [
    {
     "name": "stderr",
     "output_type": "stream",
     "text": [
      "[**********************88%*****************      ]  440 of 501 completed"
     ]
    }
   ],
   "source": [
    "dataloader = RawDataLoader(episode_config_pth='configs/episodes.json')\n",
    "dataloader.get_hist_prices()"
   ]
  }
 ],
 "metadata": {
  "kernelspec": {
   "display_name": "Python 3 (ipykernel)",
   "language": "python",
   "name": "python3"
  },
  "language_info": {
   "codemirror_mode": {
    "name": "ipython",
    "version": 3
   },
   "file_extension": ".py",
   "mimetype": "text/x-python",
   "name": "python",
   "nbconvert_exporter": "python",
   "pygments_lexer": "ipython3",
   "version": "3.10.16"
  }
 },
 "nbformat": 4,
 "nbformat_minor": 5
}
