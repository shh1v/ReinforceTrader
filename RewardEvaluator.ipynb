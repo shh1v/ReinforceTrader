{
 "cells": [
  {
   "cell_type": "code",
   "execution_count": null,
   "id": "1bf74f8a-43cf-4897-96d9-6b72b1ef06ad",
   "metadata": {
    "editable": true,
    "slideshow": {
     "slide_type": ""
    },
    "tags": []
   },
   "outputs": [],
   "source": [
    "from reinforcetrader.utils.rewards"
   ]
  },
  {
   "cell_type": "markdown",
   "id": "cfa7a03f-4952-4aaf-a783-dac1dd65307a",
   "metadata": {},
   "source": [
    "# Reward Function Definition\n",
    "\n",
    "We first define certain notations used in the reward functions:\n",
    "\n",
    "$$\n",
    "H_b = \\{10, 15, 20, 25\\}, \\quad H_s = \\{3, 5, 10\\}.\n",
    "$$\n",
    "\n",
    "$$\n",
    "R_h^{\\mathrm{ex}}(t)\n",
    "= \\ln\\!\\left(\\frac{P_{t+h}}{P_t}\\right)\n",
    "  - \\ln\\!\\left(\\frac{B_{t+h}}{B_t}\\right).\n",
    "$$\n",
    "\n",
    "$$\n",
    "w_{h,S,\\tau}^{+}(t)\n",
    "= \\frac{e^{R_h^{\\mathrm{ex}}(t)/\\tau}}\n",
    "       {\\sum_{j \\in S} e^{R_j^{\\mathrm{ex}}(t)/\\tau}},\n",
    "\\quad\n",
    "w_{h,S,\\tau}^{-}(t)\n",
    "= \\frac{e^{-R_h^{\\mathrm{ex}}(t)/\\tau}}\n",
    "       {\\sum_{j \\in S} e^{-R_j^{\\mathrm{ex}}(t)/\\tau}}.\n",
    "$$\n",
    "\n",
    "The reward functions are defined as:\n",
    "\n",
    "$$\n",
    "r_{\\mathrm{buy}}^{t}\n",
    "= \\sum_{h \\in H_b} w_{h,H_b,\\tau_b}^{+}(t)\\, R_h^{\\mathrm{ex}}(t)\n",
    "  - \\mathrm{cost} \\cdot \\bigl|\\Delta \\mathrm{pos}\\bigr|.\n",
    "$$\n",
    "\n",
    "$$\n",
    "r_{\\mathrm{sell}}^{t}\n",
    "= \\max\\!\\left(0,\\,\n",
    "  \\sum_{h \\in H_s} w_{h,H_s,\\tau_s}^{-}(t)\\, R_h^{\\mathrm{ex}}(t)\\right)\n",
    "  - \\mathrm{cost} \\cdot \\bigl|\\Delta \\mathrm{pos}\\bigr|.\n",
    "$$\n",
    "\n",
    "$$\n",
    "r_{\\mathrm{hold\\mbox{-}in}}^{t}\n",
    "= \\max\\!\\left(0,\\,\n",
    "  \\sum_{h \\in H_b} w_{h,H_b,\\tau_b}^{+}(t)\\, R_h^{\\mathrm{ex}}(t)\n",
    "  - \\sum_{h \\in H_s} w_{h,H_s,\\tau_s}^{-}(t)\\, R_h^{\\mathrm{ex}}(t)\\right).\n",
    "$$\n",
    "\n",
    "$$\n",
    "r_{\\mathrm{hold\\mbox{-}out}}^{t}\n",
    "= \\max\\!\\left(0,\\,\n",
    "  \\sum_{h \\in H_b} w_{h,H_b,\\tau_b}^{-}(t)\\, R_h^{\\mathrm{ex}}(t)\\right)\n",
    "  - \\max\\!\\left(0,\\,\n",
    "  \\sum_{h \\in H_b} w_{h,H_b,\\tau_b}^{+}(t)\\, R_h^{\\mathrm{ex}}(t)\\right).\n",
    "$$\n"
   ]
  },
  {
   "cell_type": "code",
   "execution_count": null,
   "id": "26438982-dee1-4579-9996-60f910d2c919",
   "metadata": {},
   "outputs": [],
   "source": []
  }
 ],
 "metadata": {
  "kernelspec": {
   "display_name": "Python 3 (ipykernel)",
   "language": "python",
   "name": "python3"
  },
  "language_info": {
   "codemirror_mode": {
    "name": "ipython",
    "version": 3
   },
   "file_extension": ".py",
   "mimetype": "text/x-python",
   "name": "python",
   "nbconvert_exporter": "python",
   "pygments_lexer": "ipython3",
   "version": "3.10.18"
  }
 },
 "nbformat": 4,
 "nbformat_minor": 5
}
