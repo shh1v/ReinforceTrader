{
 "cells": [
  {
   "cell_type": "code",
   "execution_count": 1,
   "id": "478fb841-9ee5-4eec-b2f3-4e66d109884c",
   "metadata": {},
   "outputs": [
    {
     "name": "stderr",
     "output_type": "stream",
     "text": [
      "2025-08-22 14:00:04.317286: I tensorflow/core/platform/cpu_feature_guard.cc:210] This TensorFlow binary is optimized to use available CPU instructions in performance-critical operations.\n",
      "To enable the following instructions: AVX2 FMA, in other operations, rebuild TensorFlow with the appropriate compiler flags.\n"
     ]
    }
   ],
   "source": [
    "import numpy as np\n",
    "import pandas as pd\n",
    "\n",
    "# Helper classes for data processing and state representation\n",
    "from reinforcetrader.data_pipeline import RawDataLoader, FeatureBuilder\n",
    "from reinforcetrader.state import EpisodeStateLoader\n",
    "from reinforcetrader.dqn_agent import RLAgent\n",
    "\n",
    "# Helper method for displaying large dataframes\n",
    "from IPython.display import HTML\n",
    "pd.set_option(\"display.max_rows\", None)\n",
    "from IPython.display import HTML, display\n",
    "\n",
    "def display_df(df, rows=10):\n",
    "    # Puts the scrollbar next to the DataFrame\n",
    "    display(HTML(\"<div style='height: 300px; overflow: auto; width: 98%'>\" + df.head(rows).to_html() + \"</div>\"))"
   ]
  },
  {
   "cell_type": "markdown",
   "id": "7fb27b1a-b2b3-4837-b33c-67bb529ec936",
   "metadata": {},
   "source": [
    "# Data Pre-processing and Feature Building"
   ]
  },
  {
   "cell_type": "code",
   "execution_count": null,
   "id": "d135f1f5-289d-4465-b753-574d03de24bf",
   "metadata": {},
   "outputs": [],
   "source": [
    "# Get DJI raw data using Yahoo Finance API\n",
    "data_loader = RawDataLoader(start_date='2000-02-20', end_date='2025-08-11')\n",
    "\n",
    "# Download or load from cache the data\n",
    "raw_data = data_loader.get_hist_prices()\n",
    "\n",
    "# Inspect the raw DJI close and volume data\n",
    "display_df(raw_data)"
   ]
  },
  {
   "cell_type": "code",
   "execution_count": null,
   "id": "ff6f61aa-c73b-4866-bba6-d7b1dbfac2bd",
   "metadata": {},
   "outputs": [],
   "source": [
    "# Instantiate Feature Builder to Build relevant features for state space\n",
    "feature_builder = FeatureBuilder(hist_prices=raw_data)\n",
    "\n",
    "# Build the features\n",
    "feature_builder.build_features()\n",
    "features_data = feature_builder.get_features()\n",
    "\n",
    "# Inspect the features\n",
    "display_df(features_data, rows=5)"
   ]
  },
  {
   "cell_type": "markdown",
   "id": "a4cad966-79b0-4e21-a05b-6a55bbbbcbec",
   "metadata": {},
   "source": [
    "# State Representation"
   ]
  },
  {
   "cell_type": "code",
   "execution_count": null,
   "id": "36ffa455-dbbf-4d29-b11b-13af22f95c31",
   "metadata": {},
   "outputs": [],
   "source": [
    "esl = EpisodeStateLoader(features_data, 'configs/episodes.json')"
   ]
  },
  {
   "cell_type": "code",
   "execution_count": null,
   "id": "47efdca2-ab47-48df-a7dc-8669e86fcf9c",
   "metadata": {},
   "outputs": [],
   "source": [
    "esl.get_state_matrix('train', 1, 'AAPL', 2, 4)"
   ]
  },
  {
   "cell_type": "code",
   "execution_count": null,
   "id": "2f012362-f0ea-42b7-a507-87824599a64c",
   "metadata": {},
   "outputs": [],
   "source": [
    "esl.get_state_OHLCV('train', 1, 'AAPL', 1)"
   ]
  },
  {
   "cell_type": "markdown",
   "id": "82ec4730-4e7a-4017-8739-9148087563a8",
   "metadata": {},
   "source": [
    "# Deep Q-Network and RL Agent"
   ]
  },
  {
   "cell_type": "code",
   "execution_count": null,
   "id": "e6f58a67-eb24-421a-9b94-984619d6a3ef",
   "metadata": {},
   "outputs": [],
   "source": [
    "# Init the RL agent and DQN Model\n",
    "window_size = 26\n",
    "agent = RLAgent(window_size=window_size, num_features=(3, 8))"
   ]
  },
  {
   "cell_type": "code",
   "execution_count": null,
   "id": "60aa72b0-2b28-41e3-8bed-2c2c7e8e1f43",
   "metadata": {},
   "outputs": [],
   "source": [
    "training_config = {\n",
    "    'batch_size': 256,\n",
    "    'val_group_size': 5\n",
    "    'model_dir': 'model_checkpoints/',\n",
    "    'plots_dir': 'plots/validation/'\n",
    "}"
   ]
  },
  {
   "cell_type": "code",
   "execution_count": null,
   "id": "4332f515-7e52-4729-8341-8e1574cc8344",
   "metadata": {},
   "outputs": [],
   "source": [
    "episode_list = np.arange(1, 8)\n",
    "agent.train(esl, [1], 64, 5)"
   ]
  }
 ],
 "metadata": {
  "kernelspec": {
   "display_name": "Python 3 (ipykernel)",
   "language": "python",
   "name": "python3"
  },
  "language_info": {
   "codemirror_mode": {
    "name": "ipython",
    "version": 3
   },
   "file_extension": ".py",
   "mimetype": "text/x-python",
   "name": "python",
   "nbconvert_exporter": "python",
   "pygments_lexer": "ipython3",
   "version": "3.10.18"
  }
 },
 "nbformat": 4,
 "nbformat_minor": 5
}
